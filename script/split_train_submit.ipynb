{
 "metadata": {
  "name": ""
 },
 "nbformat": 3,
 "nbformat_minor": 0,
 "worksheets": [
  {
   "cells": [
    {
     "cell_type": "code",
     "collapsed": false,
     "input": [
      "\"\"\"\n",
      "Created on Sat May 17 20:22:16 2014\n",
      "\n",
      "@author: yosukesugishita\n",
      "\"\"\"\n",
      "# import os\n",
      "# os.chdir(os.path.dirname(os.path.realpath(__file__)))\n",
      "\n",
      "# Split projects.csv into train.csv and submit.csv\n",
      "import pandas as pd\n",
      "import numpy as np\n",
      "\n",
      "filepath = \"../data/original/projects.csv\"\n",
      "dat = pd.read_csv(filepath)"
     ],
     "language": "python",
     "metadata": {},
     "outputs": [],
     "prompt_number": 125
    },
    {
     "cell_type": "code",
     "collapsed": false,
     "input": [
      "slice_index = np.where(dat.date_posted=='2013-12-31')[0][0]\n",
      "submit = dat.iloc[0:slice_index,]\n",
      "train = dat.iloc[slice_index:, ]"
     ],
     "language": "python",
     "metadata": {},
     "outputs": [],
     "prompt_number": 170
    },
    {
     "cell_type": "code",
     "collapsed": false,
     "input": [
      "submit = submit.sort('projectid', ascending=False) # need to sort this for submission later"
     ],
     "language": "python",
     "metadata": {},
     "outputs": [],
     "prompt_number": 171
    },
    {
     "cell_type": "code",
     "collapsed": false,
     "input": [
      "# impute missing students_reached with the median of all the other values\n",
      "submit.students_reached = submit.students_reached.fillna(np.median(submit.students_reached))\n",
      "train.students_reached = train.students_reached.fillna(np.median(train.students_reached))"
     ],
     "language": "python",
     "metadata": {},
     "outputs": [],
     "prompt_number": 172
    },
    {
     "cell_type": "code",
     "collapsed": false,
     "input": [
      "# skip train projects with students_reached == 0 and >= 1000\n",
      "train = train[train.students_reached != 0]\n",
      "train = train[train.students_reached < 1000]"
     ],
     "language": "python",
     "metadata": {},
     "outputs": [],
     "prompt_number": 198
    },
    {
     "cell_type": "code",
     "collapsed": false,
     "input": [
      "submit.to_csv(\"../data/intermediate/submit.csv\", index=False)\n",
      "train.to_csv(\"../data/intermediate/train.csv\", index=False)"
     ],
     "language": "python",
     "metadata": {},
     "outputs": [],
     "prompt_number": 204
    }
   ],
   "metadata": {}
  }
 ]
}