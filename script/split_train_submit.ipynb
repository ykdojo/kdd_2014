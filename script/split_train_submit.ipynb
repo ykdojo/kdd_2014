{
 "metadata": {
  "name": ""
 },
 "nbformat": 3,
 "nbformat_minor": 0,
 "worksheets": [
  {
   "cells": [
    {
     "cell_type": "code",
     "collapsed": false,
     "input": [
      "\"\"\"\n",
      "Created on Sat May 17 20:22:16 2014\n",
      "\n",
      "@author: yosukesugishita\n",
      "\"\"\"\n",
      "# import os\n",
      "# os.chdir(os.path.dirname(os.path.realpath(__file__)))\n",
      "\n",
      "# Split projects.csv into train.csv and submit.csv\n",
      "import pandas as pd\n",
      "import numpy as np\n",
      "\n",
      "filepath = \"../data/original/projects.csv\"\n",
      "dat = pd.read_csv(filepath)"
     ],
     "language": "python",
     "metadata": {},
     "outputs": [],
     "prompt_number": 7
    },
    {
     "cell_type": "code",
     "collapsed": false,
     "input": [
      "slice_index = np.where(dat.date_posted=='2013-12-31')[0][0]\n",
      "submit = dat.iloc[0:slice_index,]\n",
      "train = dat.iloc[slice_index:, ]"
     ],
     "language": "python",
     "metadata": {},
     "outputs": [],
     "prompt_number": 10
    },
    {
     "cell_type": "code",
     "collapsed": false,
     "input": [
      "submit = submit.sort('projectid', ascending=False) # need to sort this for submission later"
     ],
     "language": "python",
     "metadata": {},
     "outputs": [],
     "prompt_number": 15
    },
    {
     "cell_type": "code",
     "collapsed": false,
     "input": [
      "submit.to_csv(\"../data/intermediate/submit.csv\", index=False)\n",
      "train.to_csv(\"../data/intermediate/train.csv\", index=False)"
     ],
     "language": "python",
     "metadata": {},
     "outputs": [],
     "prompt_number": 24
    }
   ],
   "metadata": {}
  }
 ]
}