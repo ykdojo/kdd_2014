{
 "metadata": {
  "name": ""
 },
 "nbformat": 3,
 "nbformat_minor": 0,
 "worksheets": [
  {
   "cells": [
    {
     "cell_type": "code",
     "collapsed": false,
     "input": [
      "\"\"\"\n",
      "Created on Sat May 17 20:22:16 2014\n",
      "\n",
      "@author: yosukesugishita\n",
      "\"\"\"\n",
      "## This file splits the data to train and submit,\n",
      "# and labels the train.csv file with is_exciting\n",
      "\n",
      "## What this does:\n",
      "# impute missing students_reached with the median of all the other values\n",
      "# skip train projects with students_reached == 0 and >= 1000\n",
      "# label the train data with is_exciting\n",
      "# TODO: add essay lengths to train and submit data.\n",
      "# write data to csv files\n",
      "\n",
      "# Use the following when you put this script in a .py file.\n",
      "#import os\n",
      "#os.chdir(os.path.dirname(os.path.realpath(__file__)))\n",
      "\n",
      "import pandas as pd\n",
      "import numpy as np\n",
      "import csv\n",
      "from time import time"
     ],
     "language": "python",
     "metadata": {},
     "outputs": [],
     "prompt_number": 42
    },
    {
     "cell_type": "code",
     "collapsed": false,
     "input": [
      "# read data\n",
      "filepath = \"../data/original/projects.csv\"\n",
      "dat = pd.read_csv(filepath)"
     ],
     "language": "python",
     "metadata": {},
     "outputs": [],
     "prompt_number": 61
    },
    {
     "cell_type": "code",
     "collapsed": false,
     "input": [
      "# only include columns that we are going to use\n",
      "dat = dat[['projectid', 'students_reached', 'date_posted']]"
     ],
     "language": "python",
     "metadata": {},
     "outputs": [],
     "prompt_number": 62
    },
    {
     "cell_type": "code",
     "collapsed": false,
     "input": [
      "# make a dictoinary of the format: {project_id: essay_character_length}\n",
      "essay_length_char_dict = {}\n",
      "t0 = time()\n",
      "#with open('../data/small/essays_h1000.csv', 'rb') as f: # for testing\n",
      "with open('../data/original/essays.csv', 'rb') as f: # for real\n",
      "    r = csv.reader(f)\n",
      "    header = next(r)\n",
      "    for row in r:\n",
      "        essay_length_char_dict[row[0]] = len(row[5]) # row[5] is the essay in string\n",
      "time_passed = time() - t0\n",
      "print \"time_passed for making the dictionary: \", time_passed"
     ],
     "language": "python",
     "metadata": {},
     "outputs": [
      {
       "output_type": "stream",
       "stream": "stdout",
       "text": [
        "time_passed:  17.5210161209\n"
       ]
      }
     ],
     "prompt_number": 65
    },
    {
     "cell_type": "code",
     "collapsed": false,
     "input": [
      "# add essay lengths to train and submit data.\n",
      "dat['essay_length_char'] = dat.projectid.map(lambda x: essay_length_char_dict[x])"
     ],
     "language": "python",
     "metadata": {},
     "outputs": [],
     "prompt_number": 67
    },
    {
     "cell_type": "code",
     "collapsed": false,
     "input": [
      "dat.head()"
     ],
     "language": "python",
     "metadata": {},
     "outputs": [
      {
       "html": [
        "<div style=\"max-height:1000px;max-width:1500px;overflow:auto;\">\n",
        "<table border=\"1\" class=\"dataframe\">\n",
        "  <thead>\n",
        "    <tr style=\"text-align: right;\">\n",
        "      <th></th>\n",
        "      <th>projectid</th>\n",
        "      <th>students_reached</th>\n",
        "      <th>date_posted</th>\n",
        "      <th>essay_length_char</th>\n",
        "    </tr>\n",
        "  </thead>\n",
        "  <tbody>\n",
        "    <tr>\n",
        "      <th>0</th>\n",
        "      <td> 316ed8fb3b81402ff6ac8f721bb31192</td>\n",
        "      <td> 32</td>\n",
        "      <td> 2014-05-12</td>\n",
        "      <td> 2274</td>\n",
        "    </tr>\n",
        "    <tr>\n",
        "      <th>1</th>\n",
        "      <td> 90de744e368a7e4883223ca49318ae30</td>\n",
        "      <td> 22</td>\n",
        "      <td> 2014-05-12</td>\n",
        "      <td> 1290</td>\n",
        "    </tr>\n",
        "    <tr>\n",
        "      <th>2</th>\n",
        "      <td> 32943bb1063267de6ed19fc0ceb4b9a7</td>\n",
        "      <td> 17</td>\n",
        "      <td> 2014-05-11</td>\n",
        "      <td> 1263</td>\n",
        "    </tr>\n",
        "    <tr>\n",
        "      <th>3</th>\n",
        "      <td> bb18f409abda2f264d5acda8cab577a9</td>\n",
        "      <td> 12</td>\n",
        "      <td> 2014-05-11</td>\n",
        "      <td> 1705</td>\n",
        "    </tr>\n",
        "    <tr>\n",
        "      <th>4</th>\n",
        "      <td> 24761b686e18e5eace634607acbcc19f</td>\n",
        "      <td> 24</td>\n",
        "      <td> 2014-05-11</td>\n",
        "      <td> 2385</td>\n",
        "    </tr>\n",
        "  </tbody>\n",
        "</table>\n",
        "</div>"
       ],
       "metadata": {},
       "output_type": "pyout",
       "prompt_number": 72,
       "text": [
        "                          projectid  students_reached date_posted  \\\n",
        "0  316ed8fb3b81402ff6ac8f721bb31192                32  2014-05-12   \n",
        "1  90de744e368a7e4883223ca49318ae30                22  2014-05-12   \n",
        "2  32943bb1063267de6ed19fc0ceb4b9a7                17  2014-05-11   \n",
        "3  bb18f409abda2f264d5acda8cab577a9                12  2014-05-11   \n",
        "4  24761b686e18e5eace634607acbcc19f                24  2014-05-11   \n",
        "\n",
        "   essay_length_char  \n",
        "0               2274  \n",
        "1               1290  \n",
        "2               1263  \n",
        "3               1705  \n",
        "4               2385  "
       ]
      }
     ],
     "prompt_number": 72
    },
    {
     "cell_type": "code",
     "collapsed": false,
     "input": [
      "slice_index = np.where(dat.date_posted=='2013-12-31')[0][0]\n",
      "submit = dat.iloc[0:slice_index,]\n",
      "train = dat.iloc[slice_index:, ]"
     ],
     "language": "python",
     "metadata": {},
     "outputs": [],
     "prompt_number": 71
    },
    {
     "cell_type": "code",
     "collapsed": false,
     "input": [
      "submit = submit.sort('projectid', ascending=False) # need to sort this for submission later"
     ],
     "language": "python",
     "metadata": {},
     "outputs": [],
     "prompt_number": 16
    },
    {
     "cell_type": "code",
     "collapsed": false,
     "input": [
      "# impute missing students_reached with the median of all the other values\n",
      "submit.students_reached = submit.students_reached.fillna(np.median(submit.students_reached))\n",
      "train.students_reached = train.students_reached.fillna(np.median(train.students_reached))"
     ],
     "language": "python",
     "metadata": {},
     "outputs": [],
     "prompt_number": 17
    },
    {
     "cell_type": "code",
     "collapsed": false,
     "input": [
      "# skip train projects with students_reached == 0 and >= 1000\n",
      "train = train[train.students_reached != 0]\n",
      "train = train[train.students_reached < 1000]"
     ],
     "language": "python",
     "metadata": {},
     "outputs": [],
     "prompt_number": 18
    },
    {
     "cell_type": "code",
     "collapsed": false,
     "input": [
      "# make a dictionary of the format: {project_id: is_exciting}\n",
      "# example: {'ff9d06845bb51a9ee749adc6c0fcbf6a': 'f'} #'f' for false, 't' for true\n",
      "proj_dict = {}\n",
      "with open('../data/original/outcomes.csv', 'rb') as f:\n",
      "    r = csv.reader(f)\n",
      "    header = next(r)\n",
      "    for row in r:\n",
      "        proj_dict[row[0]] = row[1]"
     ],
     "language": "python",
     "metadata": {},
     "outputs": [],
     "prompt_number": 23
    },
    {
     "cell_type": "code",
     "collapsed": false,
     "input": [
      "# label the train data with is_exciting\n",
      "train['is_exciting'] = train.projectid.map(lambda x: proj_dict[x])"
     ],
     "language": "python",
     "metadata": {},
     "outputs": [],
     "prompt_number": 20
    },
    {
     "cell_type": "code",
     "collapsed": false,
     "input": [
      "# write data to csv files\n",
      "submit.to_csv(\"../data/intermediate/submit.csv\", index=False)\n",
      "train.to_csv(\"../data/intermediate/train_labeled.csv\", index=False)"
     ],
     "language": "python",
     "metadata": {},
     "outputs": [],
     "prompt_number": 21
    }
   ],
   "metadata": {}
  }
 ]
}