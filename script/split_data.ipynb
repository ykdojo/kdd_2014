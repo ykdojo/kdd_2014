{
 "metadata": {
  "name": ""
 },
 "nbformat": 3,
 "nbformat_minor": 0,
 "worksheets": [
  {
   "cells": [
    {
     "cell_type": "code",
     "collapsed": false,
     "input": [
      "\"\"\"\n",
      "Created on Sat May 17 20:22:16 2014\n",
      "\n",
      "@author: yosukesugishita\n",
      "\"\"\"\n",
      "## This file splits the data to train and submit,\n",
      "# and labels the train.csv file with is_exciting\n",
      "\n",
      "## What this does:\n",
      "# impute missing students_reached with the median of all the other values\n",
      "# skip train projects with students_reached == 0 and >= 1000\n",
      "# label the train data with is_exciting\n",
      "# make the data simple and write it to csv files\n",
      "\n",
      "# Use the following when you put this script in a .py file.\n",
      "#import os\n",
      "#os.chdir(os.path.dirname(os.path.realpath(__file__)))\n",
      "\n",
      "# Split projects.csv into train.csv and submit.csv\n",
      "import pandas as pd\n",
      "import numpy as np\n",
      "import csv\n",
      "\n",
      "filepath = \"../data/original/projects.csv\"\n",
      "dat = pd.read_csv(filepath)"
     ],
     "language": "python",
     "metadata": {},
     "outputs": [],
     "prompt_number": 1
    },
    {
     "cell_type": "code",
     "collapsed": false,
     "input": [
      "slice_index = np.where(dat.date_posted=='2013-12-31')[0][0]\n",
      "submit = dat.iloc[0:slice_index,]\n",
      "train = dat.iloc[slice_index:, ]"
     ],
     "language": "python",
     "metadata": {},
     "outputs": [],
     "prompt_number": 2
    },
    {
     "cell_type": "code",
     "collapsed": false,
     "input": [
      "submit = submit.sort('projectid', ascending=False) # need to sort this for submission later"
     ],
     "language": "python",
     "metadata": {},
     "outputs": [],
     "prompt_number": 3
    },
    {
     "cell_type": "code",
     "collapsed": false,
     "input": [
      "# impute missing students_reached with the median of all the other values\n",
      "submit.students_reached = submit.students_reached.fillna(np.median(submit.students_reached))\n",
      "train.students_reached = train.students_reached.fillna(np.median(train.students_reached))"
     ],
     "language": "python",
     "metadata": {},
     "outputs": [],
     "prompt_number": 4
    },
    {
     "cell_type": "code",
     "collapsed": false,
     "input": [
      "# skip train projects with students_reached == 0 and >= 1000\n",
      "train = train[train.students_reached != 0]\n",
      "train = train[train.students_reached < 1000]"
     ],
     "language": "python",
     "metadata": {},
     "outputs": [],
     "prompt_number": 5
    },
    {
     "cell_type": "code",
     "collapsed": false,
     "input": [
      "# make a dictionary of the format: {project_id: is_exciting}\n",
      "# example: {'ff9d06845bb51a9ee749adc6c0fcbf6a': 'f'} #'f' for false, 't' for true\n",
      "proj_dict = {}\n",
      "with open('../data/original/outcomes.csv', 'rb') as f:\n",
      "    r = csv.reader(f)\n",
      "    header = next(r)\n",
      "    for row in r:\n",
      "        proj_dict[row[0]] = row[1]"
     ],
     "language": "python",
     "metadata": {},
     "outputs": [],
     "prompt_number": 10
    },
    {
     "cell_type": "code",
     "collapsed": false,
     "input": [
      "# label the train data with is_exciting\n",
      "train['is_exciting'] = train.projectid.map(lambda x: proj_dict[x])"
     ],
     "language": "python",
     "metadata": {},
     "outputs": [],
     "prompt_number": 11
    },
    {
     "cell_type": "code",
     "collapsed": false,
     "input": [
      "# make the data simple and write it to csv files\n",
      "submit[['projectid', 'students_reached']].to_csv(\"../data/intermediate/submit.csv\", index=False)\n",
      "train[['projectid', 'students_reached', 'is_exciting']].to_csv(\"../data/intermediate/train_labeled.csv\", index=False)"
     ],
     "language": "python",
     "metadata": {},
     "outputs": [],
     "prompt_number": 13
    }
   ],
   "metadata": {}
  }
 ]
}