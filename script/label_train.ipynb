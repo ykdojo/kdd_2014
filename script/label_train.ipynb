{
 "metadata": {
  "name": ""
 },
 "nbformat": 3,
 "nbformat_minor": 0,
 "worksheets": [
  {
   "cells": [
    {
     "cell_type": "code",
     "collapsed": false,
     "input": [
      "## This file labels the train.csv file with is_exciting\n",
      "#import os\n",
      "#os.chdir(os.path.dirname(os.path.realpath(__file__)))"
     ],
     "language": "python",
     "metadata": {},
     "outputs": [],
     "prompt_number": 66
    },
    {
     "cell_type": "code",
     "collapsed": false,
     "input": [
      "import csv\n",
      "import pandas as pd"
     ],
     "language": "python",
     "metadata": {},
     "outputs": [],
     "prompt_number": 67
    },
    {
     "cell_type": "code",
     "collapsed": false,
     "input": [
      "# list of dictionaries\n",
      "# format: {project_id: is_exciting}\n",
      "# example: {'ff9d06845bb51a9ee749adc6c0fcbf6a': 'f'} #'f' for false, 't' for true\n",
      "proj_dict = {}\n",
      "with open('../data/original/outcomes.csv', 'rb') as f:\n",
      "    r = csv.reader(f)\n",
      "    header = next(r)\n",
      "    for row in r:\n",
      "        proj_dict[row[0]] = row[1]"
     ],
     "language": "python",
     "metadata": {},
     "outputs": [],
     "prompt_number": 68
    },
    {
     "cell_type": "code",
     "collapsed": false,
     "input": [
      "train = pd.read_csv('../data/intermediate/train.csv')"
     ],
     "language": "python",
     "metadata": {},
     "outputs": [],
     "prompt_number": 69
    },
    {
     "cell_type": "code",
     "collapsed": false,
     "input": [
      "train['is_exciting'] = train.projectid.map(lambda x: proj_dict[x])"
     ],
     "language": "python",
     "metadata": {},
     "outputs": [],
     "prompt_number": 70
    },
    {
     "cell_type": "code",
     "collapsed": false,
     "input": [
      "train[['projectid', 'students_reached', 'is_exciting']].to_csv(\"../data/intermediate/train_labeled.csv\", index=False)"
     ],
     "language": "python",
     "metadata": {},
     "outputs": [],
     "prompt_number": 71
    }
   ],
   "metadata": {}
  }
 ]
}